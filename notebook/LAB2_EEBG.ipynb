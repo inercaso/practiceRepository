{
  "nbformat": 4,
  "nbformat_minor": 0,
  "metadata": {
    "colab": {
      "provenance": [],
      "collapsed_sections": [
        "hcZZack6mGu_",
        "Sc1WJYMwmcAn",
        "8Wz7AT5pK3ax",
        "gad5WJ5RK2wR"
      ]
    },
    "kernelspec": {
      "name": "python3",
      "display_name": "Python 3"
    },
    "language_info": {
      "name": "python"
    }
  },
  "cells": [
    {
      "cell_type": "markdown",
      "source": [
        "#**Lab Assignment 2: Parsing FASTA files with UNIX scripts**"
      ],
      "metadata": {
        "id": "8hmnA9yyXlcy"
      }
    },
    {
      "cell_type": "markdown",
      "source": [
        "##**Introduction**\n"
      ],
      "metadata": {
        "id": "8Wz7AT5pK3ax"
      }
    },
    {
      "cell_type": "markdown",
      "source": [
        "Nucleotide and amino acid sequence data is often stored in a format called FASTA. FASTA files will have the file extension `.fasta` or `.fa` and each entry in FASTA format comprises of two parts: a header and a sequence.\n",
        "\n",
        "FASTA header lines are used to record any number of details about a sequence. Such details can include sequence accession numbers, the organism of origin, gene names, sequence loci indicies, etc. However, all FASTA headers have one thing in common: they all fit within a single line and begin with the `>` symbol.\n",
        "\n",
        "FASTA sequences are always stored after their respective headers and may take one or more lines.\n",
        "\n",
        "Below is an example of a FASTA entry."
      ],
      "metadata": {
        "id": "zqa8YsK729IR"
      }
    },
    {
      "cell_type": "markdown",
      "source": [
        "![image.png](data:image/png;base64,iVBORw0KGgoAAAANSUhEUgAAAzQAAACcCAYAAACp1e5pAAAgAElEQVR4nO2dP2vjzLv+L/04L8KBpBCk3VO4Whu2CTwvYG2ysHb1sGW6kC7eFIndhXRbhm8lBTbY+wICbhascIrAOdsuuIjBfhfzKyTZM9LMSJ7IjrN7fWDheazM6NJ93zOaGc0fTwghQAghhBBCCCFvkP/32gIIIYQQQgghxBV2aAghhBBCCCFvFnZoDERXHgaPr62CWJmFaH8KsXhtHX8ajwN4V9F6af4qXywQfmojnL22jj+MNxtDbvHg9I5xKZtbK88sFzHbiwe2UwhZwQ7NjlNNhRVh4A2w5iuN7BQRBh5fXoQQQgghWSro0MQNrewIUHTlwfNW/5SG2ONgdS2TbnHX1v6upNGNHCXX23f5MaU0T0XDLETb8+CVbugnzyn9k++11K08b74jEXdQIgy87AjOAuEnVePiro0mJjh/X6whe3/1uRo4j4DmmiNuqQ91NjVh9N/yGTX2tsTDehryI2OLu/Za+omebHkutOnjIF9OZyHaReVtWS7z8ZCLcSX/TNlIrlnLhRx30u9xGimOyoxWK3ll9WW0yTFuqdcU7ZrypK3X1sWqO+v3vO+yGvL2lrRn71W2PjLV1ZlYMdbH636dMGlYq/60+Pxvw/iudSsXZuJ3aJyu/BcS0ztLjWU5P/k+HGQiZFco1aGJriwNmMcxnsIJgl/j3MuuHwkIISCeAzw1kspsFqLdACYivjZBc5l3dOXhBN8wD1tqRpk0849DnCh6IgwaT+hfZtIlaU86dfQvZc0DeKfAt+cAmhQGGjgXAiLqA8cB5kJg+LkGIK749jr1pT4hhNQJ0ed1dDnC8Kf0DLMxhvd9HKXpEt2Tr41SGmqfhxBijuA4tfs55JR4f47Ju27GbibiCnv8j8DksvivU4z+S655V1P4H33grr16SRnjwU3Dn0vse3tcbRa5PKNzYm8wvD9C/36Isdy5/DnE6PJIjUsdSWwLMUH/oqk0GFrhfFnGxPcO4uiPMPCaeNJcM5aLWYh24wnBc1KnhE9Kh791DLV8FvH+fHXvtIy+81EDEF3J2uYIfl0ntlsgvEljf44AUvl8HGDvRzuxQ1wusgMyuXrNBYtuPA7Q/BUsNczDJ1zL9YdGQ2zvVX7zsIXWob/6g8uJxn8WjHX1AuFpF/U0JsUE9c5t8g6KcLu0XT6GtkNSVy99/hoadgDLu9apXFiIrvYw/Jjk99zG8KB4sNLW5jiR3+lRHd3/pB3z29V9oj56Dc5+IGQXKNWhaXydo/1jT9upiR6e0P7QgP+uh7Gtwj724SNu1CD8kjRqFpj+AkY/xlgAaHxdNdAVZlOlIVT70AaSNEBaMX7Dl8NswvSld44j+ef35+VepqVYYPxjhH50XtxQk2j8018+N5Bv7Kl2qobGv4FiNzM1dL6v33g2+i+5Jv4Zo9np4hrflvY3x4ObBjvqiGDawIiuPAyu0i98Yfw3htH1co0SdQTPOPIo5zcL0b4KpXTZLwaG+yuj1GqawZ10zajBYc77/hHaxyNMremynfaknPyzVinB0SXwNC36GjRG7zjAN0Ps6Yjj7hs6+/H/1z5/QwCpA/bxDO0ft44NlQXCmycE/8bP6h+2VmV9Nsbwvg5/H4jLWVpv1HD0cdWoWkyf0Pp4tKyjGv/00XuIVvnr6rUXo+rGvo/WslMa+6/u11Z/W6ghwm2njrM1/JLDWFfX4L/DyiaPY/SSdwzQwPkyTRxDxUQYfAoRXmXLRVKWD7oY3XexV/YLpcIU0/tW4vO/DMu71qVcpOSnYkcYX/RXsTabYoSCNgks76x9H3UpffTQW3XM35+v0rw/Qt9+C0LIlig55SxuXJ793st8lo0w/tXG0X72hRvTayQvh4Mh2jdxpTb9nb4UIwy8PUw/lvxK8mu66sD8p4tR+nsyiqhrzCzuTtB9N9nsqLb8ZUVqXK4q2x6aUgO2eZH8rIxgZxt7C4x/AO0P1XS5luz7qGdGzbdFdOXBezjCJAxwhpNlh8E5HoyM0D1Y2Xuvk0bKAuGnJiCN6KKxasz3fvmYR32MOkP4zxP076eYFqQx8niL7jtpJFr+yqaMiE8AeXTvoovpqfTFIClr6ah3/ktVhMHBFGfLUUR1WmGvk16boH8hj36uvkwIMVw26kuT/ZpoQOm0l0yTfb7xRUspB6POXm4qSvTQWzb+l1OkCqaprOIupQb/ndxJ83H08amwQaTl8Rbdd2dSZ2kIcTqNG8OnwLfs11MA+Q4DMPo9XV4Lb3qrv9xUvZbRjf0OhuIM0wMPnncC3KwGGMpoWNxd4yk7KHPRrGyqTuOrwPzwOs7v4cjQcI5jqFRn4r6L4eE8KX9IRuTjd594DtA6Xn2tMg3cKCzfB/GA29rl7A/HtVxomU3xlA6a3rXh3fgI0vpSN62ycApgA+diDv8m/vvxPwafKx1pQshrstYamsbXeOrDsrHwOEYvnZ7w/gj9C3Xa2WqKSvbzb4SBdw3/WeD8Q4kbJ9Ol0tGx8WHa6I2nmgU3mheZdsrWhtnvYJhrePaVqWira/II9hTTtRt7Lvjwj9VflDnyJecqq3OLy31ub3wVEF99TH9Mgc/DTONjzXiw0pIa60KaSpC1cWz/tAHbP030XEoNuoI0RvZ9tC6aensqX1Sa6MnXjgN8Se5V+9BGS+rEa3kcoyd3mBtKbmgtG5Oy3+OGe/dg/QalMkDxXOKLpNxpz3xltcbQciS8CURqh0s/5WxF42vS+Fzv0bTUPp8BNw47Pd301C9RjwN4ybTK+cch9jRlJrraUzoItc/fEPxKG/8nwMdkHHhj9ZpGdzKVD1FahycxU0pDhNtOZlBG7sw/B3gqMzhgU3zXXk7LU95L8jN9WqczsRrhr/l1d2EpyftACPMMh7+atcvF6mt580Kqj6TOyfSujb3fZxDfO6tORnZaZXaQScsC4ad0CtsEaGi+yqXTVnXtD0LI1lmrQxNdeWhismxIRA89acStiZ7pE+/+EdrHT5jO4s/MvcY1/OekoTKbrr62WGh8ldan+FOM3vmoPY7Rk0bk9zqjeAT3U4j/+znESGrsLSvAqhdn7vuo46m4kat7pn/68Sjs4xi9MmsLXswU0+Vn/USDZNey0/DUefLrTLWTpxLEuMbDTpM2ZG6AE6WjGE/TwbJRPjFPVyhrB3lNQkkfpj4/elhvpHw5QFH6q86qAxg9qI1lawwlI+HzsFVqfrp/2JK+ZpTDP2xlprItMP2VHclv4Ojdml80H2/RxapjuuwoJFNSa5+HmFz2lLUo0ZUXr1VRGlnJl4HE3kd4QuvQj6embqJey+mOv7D0LpPG5H4Hw6iP3k25ujVOe2aOk/0jtI8N10oRd5jSxmTja7zW4nYZy3GDtPtuUu5rykaJp02tG6N/Ni7lYrUuaXIp1UdfG8nsgy6av8+Szko8fRmA2xeapDzEMz8aOH8OgI40BXUWon3QRT1y+MJNCNkIJTs08Tzi68O5NLIRz1mVvz7Mw2wjIUGaH1v70EbrOJ6mllZq8lzxYpKvMv82ciMv87AVj+B+7+C/M4tTlxVg5SObDXwJge6pw/kJyVetwUN2ZLSGo49rLkoug/RZfld4eTyUxYd/LHW4ZyGuC6eiuKSR2O9gKNLpayvS6ROLu2v1C42EPI3KyPsjaSrZ+jS+WspsRcRTUQcYX6z/BbL2+Qx9qI0c49+tufC79qGtNFAWdyfoIo1DSf+/bUwfyjZEk0baqdypjNd6rGwcN7RWMdCOG222jmjyReTscy236F5Xr8VfXXUdQf2OlHrdyVcK6SvhYvoEvPNL1K1JZ+NfS137eItuZnBlPXz4yjoudZ1KOrJfaX2fKcflcVk/9qdTQblQiNdKLW38eItu+nXd5QvNvo+W7O/ZFKPluzPC4CDekOI1N2khhGQQJZhcQrTCufpj1Bc4DoTy63MgWslvk0sIIP3XEsHz6s/mYWt17XKi/z3514+EEGIugmN9XjLzsJXXKT1DnFeiM3MfWUfu7+NfRD+TRr6X+rxp2onooy8mlnzjdOrfrDRmfzdryNsun6fWjwayz2Oze4rZf2ukk/xQqEGKtyQnERznY235zBm/p9qWPon6yf0lvxnSrGMHxeZRX/o9MN6ntB2k/LLxsLqvbJdsDGlib2mHFfnykCHni2XK+H6XubuUy0eqZ3LxJf9d1n6mNNLzKtekvPK2y9xLE2dZrVobZONBVw8t9clpND5Kc9b4xVinmHxh1J2JPcvfyBrmYUvrb9UXhjpP904x1dWmspkpEzbt0lOodbWhDGjLtC4eStQbhWVKh0bXRtIYy7ONYjuodZtLubAh51f8vhLC/s4yxWu+Pi4RDyVwiQenGCLkD6VUh+ZvZBcqClPDwAlLo+XN4vTS3VF26Vm21gB6q7g1WEgBbzaGtteAfXMdmr8SdmgIeQ0qOFiTbIra52H+/AknIgwawKSyraoJIYQQQgjZDTwhhHhtEYQQQgghhBDiAr/QEEIIIYQQQt4s7NAQQgghhBBC3izs0BBCCCGEEELeLC/u0Czu2jt9AnJ0tf6J6GQzuPiC/isiwkB75sifyS7Ewy5oIIQQQsgKfqEhhBBCCCGEvF3K7e4sH2yZHCKlPfxK3nvd5RBI9T5QDuHSaEhRDlJL8tIdrmY6VK+kBvVArcxBXzoNunspe/urNjIdDKfsM597LtMhi5lD4gz5uRw8WLUvtHYoSmO0gy2GTDGZSZM92HFtX9g02A90XMcXugPeTOVFuWaJIbMG28GyhnjI1BH5w+dM1xziwUWDrSxVqSF3L9MhfZZ6o6Qvqq1bLeWi4KBhQgghZJuU6tDYTphXT9U2pJEPdXwORCvzklVO5lVOgVZf/FoNmb/T6cgdPOWoQUE+rKzo77QHlKn3NSOfYD0RfanRpdikwA7a/Cx2KDo9vDJfFNhBn8Zsh9IxZHk+U0yX9YU1hkz3dfRF7oRz6Rn0GsrGkKrBZjtb/SApUg6bM6dxiQcXDRY7VK2hbNk01iklfVF13ZpBLhdlyxIhhBCyDUpMOYswvujj7PNrHslo1rD4OQTCL2hsQcXirg3P8+J/jV4pDdFDD/1TzYGWszGGCPDlvSbRLEQ7vY/XRE/zJzltNjs45GfUXbUvbHbYItGVt/TtXme0uuBgO+t9jHatNs32sNUPEQZL2+2he18ijVM8uGiwULEGW7kw1Snbw16/G8sFIYQQskNsbA2Nf9jCqLOXvKifENwkDbJ9H3X00EwbGO8mOE8aDjW/Dlw04zQHXdSj8810VFw0zEKcdIDgWUAIARH1N6EMwALhaRcI5/F9xASrO/nwj0foHsQNjOavAN8KO5qW/Cx22G3MdrDFkDEmHwdoXvQxib9YYh62khRuvnCK44p9YdZgiSGLBqPtLERXTfQuJ4nt5giO3Z/HFbMGl7JUMbY6xcUXVdetxnLhFg+EEELIpijRofHhH/dwbdnJbPR7mvllgfEP6UUthujsJ5cex1IDQ0B8Xb1Wo4ce+pFYXls16Mwaan4do86tdZenp2kmnZMGAKjD34+fL7xZjabaNPiHLfRuQuSU7/uo33dxa9gtqe7HzYPF3fXqq0AycjxPdX9fNSKK7KDNz2IHo+6qfVFgB20aix3M/rPEJAAc+/DjHHCbGYle1xe2GDLa1ckXSwthOlN/MWqw6DZrsNnOXj+0Dv0k71vp64gljUs8uGiw2aFiDfZyoa9TnHxRcd0KwFAuCsoSIYQQsm3KzUxTF4CaF/DaFhfLc9fLLlaW56qbNaj3ysxVVxYFmxfVltGwWsDbEkHYNy/0zmhQFv7Kc80zC5Z1mwK0wkBaI6FZ2GtcVK5fQK/mZ7GDTXelvrDYwZjGYgeL/8wxKefXF4G8hsbFF9Y4NtnV1ReZ5yqMY1sMmTWYbWeJB9l3l4GyhsZap6wdDy4a7GWpUg05++k2BcjWKS6+qLpuNZcLezwQQggh26Vkh2Zd8guV00WkuQXXywWq80yDJ7OQtUJ2QYMTUT+jRV3YvC5mO+w4RjvY/GeOye1pMFOtLywaLDFk1lCx7XaBistS1bj4Ynv12h8YD4QQQt40G+rQaLaUVXbY0Y/s5Ub9NrVzzi5ocCI/Alu8S5oFix12G7MdbP4zxuQWNRip2BdmDZYYsmio1na7QMVlqWpcfLHFeu3PiwdCCCFvGU8IIUAIIYQQQgghb5CN7XJGCCGEEEIIIZuGHRpCCCGEEELIm4UdGkIIIYQQQsib5Y/v0ERXHga68yRmIdqfbGd7EKPtEGHgDbTnaizu2mhbzizS8pf5wmzXatM44eQLczxUm+ZPhHYghBBCXsof36EhhBBCCCGE/MGU2wxNPYROe2hd9nA8kdkqdLlNaOZAu+z2ocoBcLoD6LKH2RnSaA6Sw/JMhuzvGe1ra9DkaTp003JApbxtrCnNVjQYbafZrjW9T27L2PzWw3kNRb7Ib62rO/BSvVfFvsjcx3hA5oti0s0XOr+7x3FxudDZzhgPlphcK43FR7I+l3Jh9Z9DPKxbT9rtYNFg8IXVdra62liWdAdoruxkLkuEEELIdinVoSl3aFrm8LaoX+olpxwGV/YwQflQvII0k0vD+RLPgWjp9DloUA6py6Y32iFufGi1lbTdRjUIi+00B+stc8we7leoQRh9ocSdkl49BFH+u03YQVJkfO6Xx6SbL4xl06Uspel0NrLGpN4uVl/YbJnJQ+4A6OPB/Ex2Dfo0rvHgVE8a7fDy+sFYFhUN5rKk2iujp2wdRQghhGyBElPOIowv+jj7XNNeG3gePM+D5+2hey9deeihf9qBNtVVmsbDXme0/H3xcwiEX9DQpFnctZdpvEavVBoXXDTYMNphNsYQAb68XyPNFjVUje2ZtoWTHWYh2ssYb0K2eKUx6eQLc9ncWhxvAFP9YMPlmYxpnOLBrZ404lg/mG3noMHCLpRnQgghJOVFa2iiqyZ6lxMIISDEHMFxiUSPAzQv+pjEX4cwD1vFaWYhTjpA8BynEVH/JbLdsGio+XXgohk3Fg66qEfnlXWwdk7DFvEPWxh19pIG5xOCm7QB5cM/HqF7EDfQmr8CfEsaktXaYYHwtAuE8yTGJ1hafBdi0oUt6nbyhaV+MMaDS7lwsoMlHiw41ZMuWGxn1mAuS9j3UUcPzbQT9G6C8y0MfhBCCCHrUqJD48M/7uHasHNV69CP/+PxVhn18w9b6N0Ydks69hGninArjSLW/DpGnVvDjj91+PsAsEB40yuZJuZpatiz6X6KaeYnFw3RQw/9KGkYCaG89I122PdRv+/iVrNzldV2W9KQYrQdnjCd6a+MfmetWvRM0PhigfEPqcEphujsJ5eS0et58qzi+2qkeBN2qPtx7ou7a6hj/xXGpJMvzGXTJY6XaMpFof808WDzhSkNAEP9YIkHyzPZNRjs4BQPbvVkjMYOrvWDoW41arCUJTyOpU6QgPi66o4WxwMhhBCyRcrNTFMXp2oXu14GmbnhmUWv2oWrfRFk5nmri1B1C5lbIgj75oXe2fnoymJY9Zqs70UaNAu3jYvHLQt1y6TZpgab7RQbGRcyl4kHsy/yC5ItC//T/Kq2g5RfKwxyayYqjUknXxjKpkWDTbfJF0X+08ZDgS/0MWSuH8zx4FYurHZwiAfXetJYltauHyx1q1GDpSxpNmGQ9dnigRBCCNkmnhBCgLyABcJPJ8DNasR4cdfG3u8zZUTzz9dQNREG3hhHYjVNKbrycH04x9C/hfdwJD1bhIF3Df/5G3D6p9nhrVJ1TFriQbtuZRMa/kAeB4ayNMTRzzZO8G1l31mI9sEUZ+LtT2clhBDyZ/Ffry3g7VPD0Udg78BDN/3pOMD8+zZf+bugoWoaOLpsoulJU4EuJxCfawCO0G804V2sLvUjgc4+sPjj7PBWqTombfGwLQ1/IO/NZQkf2sDBHrxOeqWF4HnIzgwhhJCdg19oCCGEEEIIIW+WF+1yRgghhBBCCCGvCTs0hBBCCCGEkDcLOzSEEEIIIYSQN8vOdWgWd220tWc5RBh4A+vZHjqiKw8Dy9keVWHWvRtsyw67oKFqX+yC7cjbpup6rVp2QQMhhBDizs51aAghhBBCCCGkNOWOq1EPX5MP21MPrpMOmcscaGc8UC9NlzlEDtLBecoBbtkD3jLplto0B+rZDiRUDjE0PZPODhbduvuo9jNosNgu/1zSvXS6C+yg9cWWNdh8oeiTD+/TafgfV19kDhe0HNJpi3HrwZ+mQzeVAwnXjwe1bJhjVdFg8Z8xHiy6d0GDuY6y+aJkGtshokV2cK3XbPHgEkMGOxRpMPvCVq8RQggh26VUh2ZyaXhZPQeilT0FXZ/D6kRtJU38ks2+qPUvxknmVG4d89wp3JPLTGPccN8yz2S0g0W3kibq50711mpQc5CeeyL6mdPR1ZPAzfbR2qHAF1vRYLuvYq+sHoMG4eKLjKJMer1us4Z52Mp0uDOdIO19XeIhQ7Q67d6soaz/Mnos9toFDaayafOFrTxn8ygTNwqSHXJ5qMoN/nQpF+Y01pg0abD4omxZIoQQQrZBiSlnEcYXfZxpDrBb/BwC4Rf9QWuzEG3Pg+d58Lwmerq/qYQIg+V99tC9L5FkNsYQAb68z18yP5PZDk5YNLjYzuoLJ31b0mCxQ/TQQ/+0g4osbiW6Sp/Vw15ntLn7mJ7JMR4Wd+2lbq+xwVJm8cXra3Apm/Y0pnjYmh1cyoUthgghhJA/mA2toVkgPO0C4RxCCAgxQT+9tO+jjh6aaQfk3QTnL3gBR1dN9C4nyX3mCI6r0F8d/mELo85e0sh5QnBT1EC32A4+/OMRugdxo6n5K8C3l3SwjL7YogYn3DQYffE4QPOij0n8xRLzsPUiDTW/Dlw04/scdFGPzl/Q0bT4YhbipAMEz7FuEa28ZNZgsZ1L2dwFDRacfOESDxY77AJOdrD4Yv16jRBCCNkcJTo0PvzjHq41O/TU/DpGnVvj7jh1P37FLe6uV6PKj2OpAyIgvuZfq6PfU0OOT5jO8r+2Dv0k71vtF5qnaUb7vo/6fRe3mp2rzM9ktoNZ9wLjH1IjRwzR2S/WABhsl4zAzlPbfV81Iop8AWjsUOCLrWiw2ME/bKF3EyJncYuGlLV8AQDHPuIoinCr+UKT023RED300I/E0q5yg9z4TC7xEF+Bvx8/X3izumLUYLOdJR6MundCg7lsmn1RUJ4N8eBih5S16jWXcmFJY4tJowajLwrKEiGEELJtys1MUxeAZtcrILdgVCiLflthkFmDUXYhrLoeRrmXblOAyyC3hkZdlCvpyyzWNW9aYF68rs6J1+vOL6qV9Jk0GG2nWdgrzV036zbZweKLrWmw+0JZtJxZf2TSsL4v5Pz6Isiud9DqtmjQbCZQ/Ewu8SDn1RJB2Lcsuk/zs9nOXjZNundBg7FsWn1hKs/2eFjbDpaYzMWlnGbtclEuhgrrvKUGsy+s9RohhBCyZUp2aKojtzi29MYCb5H8YtuyC5G1RLpGkntDwskXFWtwwknDtnyR35hCWZC9FSwaLLartmzuuIa/Cjc7mH1RcVkihBBCXsjWOzT5bUz/7JG93LaoL2pM5UdMi3fFsuDki4o1OOGmYVu+yI1ev8IOUGYNFttVXDZ3W8PfhZMdLL6otiwRQgghL8MTQggQQgghhBBCyBtkQ7ucEUIIIYQQQsjmYYeGEEIIIYQQ8mZhh4YQQgghhBDyZmGHhhBCCCGEEPJmYYeGEEIIIYQQ8mYp16F5HMDzPOlfG+EMwCxEW/q9bTp1mxBCCCGEEEI2QIkOTYRB4wnBs4AQApNLoBV+Q2cfwH4Hw/gsGwgxR/vHSdzRIYQQQgghhJAt8MIpZxEGyy80e+jeVyOKEEIIIYQQQspQokPjwz8eoXsQd1yavwJ8+1wDAERXTfQuJ8svNMHxhtUSQgghhBBCiERxh2Y2xhAB5unUsu8d1KTLrUM//o/HW36hIYQQQgghhGyV4g7N/hHa6GJP3hTgU4gFgMa/AdDZi3978PmFhhBCCCGEELJVPCGEsP7F4wDewxHE10byQ4SBdw3/eRhvDEAIIYQQQgghr0RxhwYRBl4TPemXfiRw/n6jugghhBBCCCGkkBIdGkIIIYQQQgjZTV64bTMhhBBCCCGEvB7s0BiIrjwMHl9bBXGF/tsEC4Sf2msfnvtX+WIWop1smkIq5HEA7yp6bRXr46LbKYa2VzadyvNb9V/V0A5k19haHbV52KHZcappDEYYeAOwGv1DeRzAo38JIYQUsLhrL3eq3Szxwet/zWCWEdphW1TQoYmdle3hRVfSNs9ZZz4OVtcy6RZ3be3vShpdYUyut+/yxTTNs6wG63NK/+R7LXUrz5vvSMQdlAgDLzuatkD4SdW4uGujiYm0AYNZQ/b+agO3gfMIaK5ZiaU+VG0a6zT6du38Eh4Hmt/le2Xtldqi7KikyRfltBMT2Zgs8kc+zoHYF9q4yPyN/j75mCxXNkumWZabfF1XPobk+0lxaKvXDHVUrqzL9dfa9VoJ5VdZ22WfR/ZFxq6KBtVPit1mIdq2+l2vTKshXxca7FehfdatR6rW8DYxxIMcw5qYcLKdS7nQls18XZONZet7bktU926Tn/e1Bs2K2hzx9a3a+1W+tGXskKsnX8EOO0apDo21sfE4xlM4QfBrnAv2fpQcxvkc4KmRFIZZiHYDmCQHdU7QXOYdXXk4wTfMw5aaUSbN/OMQJ4qeCIPGE/qXmXRJ2pNOHf1Lc36yBjMNnAsBEfWB4/ig0eHn+IjRxV0be536Mj8hinaBa+DocoThT+meszGG930cpekS3ZPldtl2DbXPQwgxR3Cc2v0cckq8P8fkXTdjNxNxwRj/IzC51F1vIXgu+6wF+c1CtL02Qvho+1NlJCO62sPw4zyJoTaGB1IMeWMciQn6JZ7mj+f9ed7fW6W/Kpsh0D21NUhrOPrYQu9B6VpifNFC+0PNmGp5p8h0HzUmi8umuTeDyeIAACAASURBVCzhcaCkmbzrYm/58mqhpanr7KRb3acaEl/Z6rWCOqoVzpfPs9xS36leK1B+5eH6cJ6x3QLhpyawrN/bGC59kdhViLg++tWUGqq3q/Ic9dFL3wmIMDgYov28ssNeicbC4u56qUGOh7guXPl7HraWB0Ab3zFbZBc07ASmeHh/rvhPRH3gnY8aHG3nVC4WCG/SNHMESN+dNXS+S9rEHMFxC/5+ksb63twNap+HuQPSLX+dPK/LuzauC6rZEXfdNscuUZUd1Ngr3577eyjVoWl8naP9Y09bCUQPT2h/aMB/18PYNiJw7MMHsPg5BMIvSeNrgekvYPRjHB/U+VVqVMjMphhdHi0bbLUPbSBJAwDRVRNP4Td8OcwmXCA87aIeneNI/tWiYX0WGP8YoR+t16Bs/NNX7rn4OVSeUdVYDY1/A8VuZuKCU12lYclvv4Oh+AbcdNFtjHG0LPgRxhd9nKXxMJtihCTG9jsYVtyA147Iz0K0Pw0w+BSPToXZL33KSGLZ0St1BHtVpsyjL9FVG+HdoCBN/v7yyPoqTYTBpxDh8pr6RUUd3V5/RK72oY3W/RTTor+5kDoFj2P0jts4WuNcqzL3cS2b0UNPSdP4OkF/qbeOs1Pgeo0XyeLuGk/ht/y5XZZ6zaWOqrZeAzALcf0rwLdcnTzFVB582T9CG0OMc1/mppjep409AO/PV/X7+6NVA+lxjN7l2dI+098j4KK401j7PFzWKbUPbeibuBFuO/VlPWJ8x9iYhWhfhfmylpT/5gXQa5QvM04a/kRM8aCwQHjzhODfOKqLbZdfS+RWLmrofE/rgHgQRsvjLbrv0th1e28u7toY3ElfKDNfgLX18eMA3toxKb17sqP78hfSCr4uye+R3JdYne4XUYP/Dqj7ZcuUy7sWqo0aPW3OuTttzA5xHKvPvK4d/jxKTjmLC+rZ773MZ7YI419xQ6TxTz8z6ioVqIMh2jfxiMD09ygxeISBt4fpx8DwIsrwa7oKuv90MUp/fxygqX3pAou7E3TfTXIVjLMGHfKXFSngV8HbQ1OqKJoXyc/vj9C/TxsBScPrn2V3BuMfKDVivRb7Pur3uobHuozQPVh3eoiBWYi2dwKcBgiiI4xT282meEo7wXdteDc+ghePehl88TjA3o825kIzQnzfA07nCI576P4+wzxs4Wm6yI36iZJT+uLG7WrEe/VyVkdf1K+QI3R/+Im+Ceqdk+SFbR49W9y1pZH1eEBiGZP3XQyTa/MQ6P4nLbdx42/1NWP9TmO2Y65l/wjt49UASPTQQ+vjUckRQ9N9pJhMX0SFZVObM6a/pEY4AMCHf/yEaVpu3h+hvkZHYfp7hDrG2gaLqV4rqqNGnb1ch7TSeg2IO1zvgLH2pSvZ4/EW3Xs5XWrrpr4jBySd2KR8T5+SLyhxQ+P6MFh7NHjxc4hRMoqv/H53jacqBoYuupieJiOjl724Q5t8SZhcSrMRXvVL6RtGigf1d7nD4IatXGSnxuvrh/j9nG8oqp2tl9DrTHGm+arZ+Cp/qQKact1xMQRu0q+QTyViMvl6+qypF/Y7GEpfndo/TtbeYEIm/Uqq/VKlK0uF2Nscja/rdCRLvmufA6Bzq/2KLKJyNVT1dkg7pXvatu16dvjzWGsNTeNr/Ll2GVCPY/TSl8j7I2kUM6YvT0k4kF+GqykY5x9K3DiZLrWXVDjjw7RAxlPNghvN51PtlC2ZNTWUIakU1ODtK9NdVtfkaWeZEc+N4cM/Vn9RKvRSnZP8Z8/V9BDT1wcL+x0MxRAdTDGc+rlPs9O7NvZ+n0F87+Rfdmuj98Vi+qQ0qGsf2milDc3jAF/eA0BLfXFlRtfjDmrRFwOg5tfjxqhmSo3si73OSLnWP01jPI6bacE6lfGPkdTo3VMbnFh9+ar5del3H/5xD83S65JSVh3FvR9tzI1lLkWedhZ3IOTOuy0m00GS/H30U86WaMumKw18+TjEbak56vFIWu8H8C3bYDHWayn6OkqZUhXV0X1J3WpTPn3KNZriBlUD51F91cB48BHI9cqycWT4sj8L0c7V21OEn/YwPRUYfl6zpKdTBHNxF+G2U9HA0LIeAPzDv3yqWNVo4wGIOww9aaCvII9lXbdq/CpfpjXlQukwGKYzRVf6xiMeb9HFel+WTbSWne64bnyaatbGZr8KSF81a5+HL/zqJ7+7s++Lilm7LNnaHG6Uetfu+1i+HTNfkSvBqU5ZTemdoPmXr8HLs1aHJrry0MRkOf8yeugBF80kMJrowTDtbP8I7WSE0z9sode4hv88jINjNsVIkySLXPGc+9N4NO5xjJ7Uc9/rJI24TyH+7+cQI6mhtfwEexU5a9Cy76Muj1auQeOfPka/p0lhKRjVroQppvd1ZfRZqdBLz6uV0v8jj1TI8+fXnFYhTz8Akq9JXTR/nyVrBOKG4ZsnnR/+z1gdrX8coHkhr0UxVXBl7aA28MvNO05fHN+A0/x0NDNSR7FkDC07jbMxhplGgS0m40GSCfr3JeYPO5XNGvx32Q5jvtzUPrTx9FDmZRJPA1h1SNUGi7Zewxr1pDRVp9J6DUlnV240yR19eZ3DVz9nn/TZjz624jouZRaifdBFPRqu8vXrGHWamJ4mMTqb4qmsyMcBvMYTguf8l5HF3XX1jRBSLZp4WPJ4iy5WjT4rUic6OF7VfcPPNWu5KPpCE115aP4KNIM0SWfrdP13ZhHT34m6WYiTDlb1eMmvAi5EV030LifSuqCN3erFqG0OB0q/a3ebxj995Qs/Kd2hSacCzFcLUJM1DvKI93I6TpbZGMPkhVf70EZrOV8+rhTWm26SfJX5t5FbPDgPW/Fi2e8d/HdmYejyE+zXRgUaZBr4UrgQ2kDyVWvwkB2FquHoI9RNA6pAmsZVDYntDqvLcUUDR5dY2eXxFt0NfcWq+XVlTnX0n652+orCvq+sA1ncXeunTJh4fx5/+pcrpGX6CLcdQ1M0u3mEljh+VlPJ1iXu2EwKvwS9gGTdxe1/hsDaZa+BL2ELo+V0ANvfrV82G//00buR51U38wMO+x2cYYxxifz8Q3kTBNP0FaleQ/l6Uo674jT6HSnjfNr5Dmw2xg3TuuI1jLppXdmptBEGB13Uo0zn+v0R+ljFdPSfbvG0RWA1sv+saQwnX2eqmA5UBu17jxRgiAcAVXYYbOXC9oVmcdeOOzO6QZp1Oltrkd0gpb7acOCm3LqNlHVjcvkez04h3SkqanOUedfKKHVhhEHJNTSbxGWq9h+PKMHkEqIVztUfo77AcSCUX58D0Up+m1xCAOm/lgieV382D1ura5cT/e/Jv34khBBzERzr85KZh628TukZ4rzsGkx/L8RE9DPa5Hupz5umnYg++mJiyTdOp/6NECK2Ze53s4a87fJ5av1oIPs8K7urGl6enzWVdC/57/N2yMai3n9mXyj60ryW8TwXwXF8fznGVJtrfFjCDiuNcoz3RSDdx1yWbHaQ85P1ZewQ9Vfx/xyIlsWmQrKDza66Z1Z9IST7lYkDXT7x8+Xrh3XKZsk0y/pBYztknk2qA7Pa8/ex12umOkobqwVpVvr19Z3RF8kzZu8l30epAzIxlK/rDDY33EfRoejO+1y+3zxsWZ7TVAYNZHyae88oz5wpCzndJTQYYsiOrmwWYyqbVafR2aEwHjQ2cPJfNp0mLnJk60LFt3Ldo1L4nisRD/oy0xJBKKXV5GPWn+jWPZOu7r8MpFgqftfqMNqhqCzpc3Nqc5ixv2tX9lfr+9Uz9cWkyP65NLtoh4SSz6LgVEdtHk8IIUByRFfx9ouvucBqka4fKVyTUILHAbwbXz/a9AeyC/6rit15lgXCTyfAjW5E3Mzu6N8CsxDtU+DbX1LOtsbjAN7DUTV14TZx0e0UQ9srm07l+a36r2o0dljctXGCb9z5jrwOW6ujNk8FB2uSTVH7PMQEzQoOyIowaACTHQs+QgghhBBCXgq/0BBCCCGEEELeLPxCQwghhBBCCHmzsENDCCGEEEIIebOwQ0MIIYQQQgh5s7y4Q7O4axtPhI+uvLUXtNvyc8FFw24TYeANCs7f+Btws0O18WDWUHUcu+CkYRai/cnhTKVX1+ASD9srS2Y7WDRU7AsndkEDIYQQUgC/0BBCCCGEEELeLqVOq5EPPUsPB/of3cFTyaFBub/PHjimHhDUj4ThIKvVoVTqAUVyXpoD1i4nBRoyaeQDgjI6zAf0ldCQXpUPzlIOI9LYwZJGdxCZciCS8sz5AwAL7yOns6TRxkN6WJTl4KdXtYNLTLpoKIhjsx0sMWm1nZquFc6LNWj9pz+ocOVD20GU29JQXTwUpTEfVGu2g7Z+sNjBrMHNDtY4Xrtee4kGQgghZLuU6NBMRD/Tsci+1EwnlupPFDafsluU3xLpZFPlROjnQLQsp8GbMN/TcvpyWQ2GE4+tdjCmEcJ4Mrvm2fVI6ZU0Nr/I97THg/p8mQbsDthh7Zh00SAsMWXNz5DeksZsf5OGAv9ZTro36dmWhurjoUwaNTZsdshpzXSQ9DYyx9D6drDXrerfFddrbhoIIYSQ7bP9KWezMYYI8GXNU8MXd214nhf/a/ReLCO68pb57XVG8hUM0vt4e+jev0xD9NBD/1RzoKXFDsY0FhY/h0D4BdqzXmch2stnaqKUcpc0FtvthB1MVKzBhi0/U0ya00QYX/Rx9qonTG9Pw9biwZGq6ygTLmVpa/UaIYQQ8gqU6ND48I9H6B7EL7zmrwDftt2AmoU46QDBs4AQAiLqLy/V/Dpw0Yxfxgdd1KPz4sbL4wDNiz4m8RcqzMPW8lJ01UTvchLfR8wRHG9Iw9ZYIDztAuE8eaYJlsr3fdTRQzNt5Lyb4Px9QRpLPBhtR4qxxGS1uJVn/7CFUWcvafQ+Ibh5SWN2B+oUG8ZyYbGDpX7YBVzqNUIIIeStUNyhSUb95klDS3zPN2RGv6fG5E/TzP44+z7q913cWnaa0udXh78PAAuEN6tRxOihh36UaBNi2fCwagCAYx9+nANulS80QOswvoLHW2Uk00WDf9hC70azS5DFDsY0qyfCdKb+UvPrGHVujTs21f3Ya4u769XXlsex1MgREF8bxWkK4sFku12xA7BeTLpoSNHFsTU/Q0ya0/jwj3u4tuwiltNQojzjfgo11QLjH1KjVwzR2d+2hk3Fg8Z/xnJhswNgqh9SzPWkOYbWskNB3bpuveakgRBCCHkNimelaRaHGhehZuZlKwtRpXnimQWq6pxvfX6rhastEYTSPG/NYm8lP60G+Zn6IpDnt8t/fxkoc81dNSiLbi0bEJRKIzKLcY0LmfWbArTCILMexrAw2pjGEg8W2+2EHYzxUL0GW7nQ52eJSasG1YfqOg2dhqLyrN4rzS+/SF5+pu1ocPWFLR70aczlwmYHY/1QEA/mGHKwgymOXeq1F/iCEEII2SbFHZrsItHMgt7XJb+4VVmg/9docCO3ULnMxgI7HQ+kECf/5Reu2zYC2IyG7WEuFxXbgRBCCCGVUHKXM/PXh9cmN2L6CiOFu6DBidyWsmUalbsdD6QIN//lthh+UYd9x2PIUi6qtQMhhBBCqsATQggQQgghhBBCyBtk+9s2E0IIIYQQQkhFsENDCCGEEEIIebOwQ0MIIYQQQgh5s7y4Q7O4a6NtOYNiZ5mFaH+q7hwFmx2iKw8Dy7k76xFh4A2s56ysRcV2qBoX2znFpJMdKvYF+QvZhRjaBQ2EEEKIO/xCQwghhBBCCHm7lNkKTd2qNDmHIbe1aWbb38xhk6ttWTOH6mW3OFbSyWc+qOm0B2FaD/VLr/9v/lC/0vlpNNjsoDlwU30mVZ+8da2yFXRio9yWsdltY4220+WnOdxQeV6d7eZa3y6fd21f6O/Vj0rYTqfhf1xissgOLr7Q5Gk66NFySOYyHoxlyeILazwYypJDTFrzs8WDRXf+8ErzQbBpnto6ylmDpY6q0BdF5dloB6e6VR+Tzhqs5ZkQQgjZLqU6NAqZQ/Fyh9BpyR9Ip01vOdix3AF289wJ2EojPHuiduF5MZb8bM+h0Z4/ZyNuYGjP38hqVXPT29J2KKYtP4MdzLZTD0E026SsLyx2ECbb2TU4xaQpHhx8oRysmvWLMT+7HfT3tNjBqSy5xeT6ZbOsblWPtTxntWrPhympIZvKGE8v90W58myLjXJ1qzUmHTSU9gUhhBCyBUpNOVvcteF5Xvyv0SuTJF6TkKbxmpBTRVfeMr+9zmh1n59DIPyCRi6zCOOLPs4+1zQ3ijBY3mcP3fty8syY8rNpcGA2xhABvrzXKHjooX/awTp3MtvOLT83HHxhsUPlWGLSRNW2M+Zns4ODbqey5BST2yybZsx1lJsGUx1VrS8ccahbCSGEkD+Z4g7NLMRJBwieBYQQEFG/RLYLhKddIJzHacQEy1SPAzQv+pjEX4cwD1sv0Y/oqone5SS5zxzB8eqaf9jCqLOXNHKeENwUN0xt+f1NmG3nwz8eoXsQN5qavwJ8SxqzVfvCos6owYwlJium5teBi2b8rAdd1KPzFzRmbbpd7LA9zPFg0b3vo44emmkH5N0E50kHyxhDljrKSYOxjtqiL4x2cKtbnWLSxReEEELIK1ByU4A6/H0AWCC8yY9Jjn5P9an8+BW3uLtWRzKPffgAgAi30ihiza9j1LnV7Lbjwz/u4dqwc1XrMM4Nj7fSCOwC4x9SI0cM0dnPJLyfQqdcn59dA2C2AwA8TTPp9n3U77u41ezg5R+20Lux7bj1hOlM/cVsuxL55exgsV0yij9PGk3iu9qQWdsXFjssnzZruwINgENMau3g5ovooYd+lD6rWDYCrfkV2EGr22IHp7LkFJMOZdPmv8ex1AEREF/TZndReTbXUWtrAIx1FFClL1LyMWS2g0WDRbctJtfXUKJuJYQQQrZJmXlpq4WjLRGE2fnp8uJQ/SLYVhhIc7Tlxal9EWTmp6uLUM0L6LULjy8DZd1GfkGrpE95rnL5GTXY7JDN07JgWZ4jryzWzcxPV57LuIBXnRNvy09nB7PtNIuL0/xcfWGxg952Fg02Xxhj0hIPLr7QbGhQyrcmO5QqS/n81i5LBb4w22HdsmnTnV9sntrVFkPGOspJg6WOqtwXpvJstoNT3VoQk+tqKKpbCSGEkG2y/qYAb4b8Qtdyi5eJ1Xa5BdfqYui183PBScO2mGc6wZkF2VWy03awYNGdW4C/XJi+4zFUcX5mOzjl5hSTW/MFIYQQ8kL+4A6NZlvUTTQq/1DMtsuP2hbvzFW1L9w0bIvc6PXGdoDabTuYsejObYOu+wqzizFUcX4WO7jgFJNb8wUhhBDyMjwhhAAhhBBCCCGEvEFKbgpACCGEEEIIIbsHOzSEEEIIIYSQNws7NIQQQgghhJA3y4s7NIu7NtqWs1m2gZOGWYj2J9v5IjoiDLyB5TyJ6oiuPAwsZ7OQtwt9C1jL0o6XzWrZBd27oIEQQghxh19oCCGEEEIIIW+XUnuh5Q5la4ngf7Jbeua3FlW2CtUeWpfdPlRzOJ3xsMIyGvJbqbbC/83fA/IZCnoNuW1KZW2Z7U3NB26q1/OH0/XFRHMAnnoQn6pPe4hhToPJFwYNGnsrW9DqfGE6rNDgv1V+lniwaajUDraYNNtOjQmzj5Z2KPCt0RcuGqx2MNguzlGJV+PhixY/mQ4zTfWZy5LGbhl9Og3WsmnQsJb/LIeIyvrWjYdC3Wv7Yv261VmDtWwSQggh26VEh0Y9IC57gFru8LWUqF/qrAM5vXLYm3KQnJsG5e+yep4D0dLoM2tIdRQdbqceYmfUoOQdNzayp7LrGgnlDrDLHKRn8kWBBumu0nObfWG3nSm/jHJTPGXSVGoHm4aSaeSDFYvsoPWtzRcOGjJPZI7J3N8ZYsCowVI2HWPAVDbtdjDkV/ZASqPt1Hiw1imG/NzqFBdfmHVXrkGhTL1ICCGEbI6NTTmLHnron3ZQ01278uB58b+9zmhTErZIhIGXPtMeuvebu8/4oo+zz1qrGjXYfGFkFqK9zK+J3guV2/IzxoMxTfV2MGmwpVnctZdpvMaLLWTETYPJDhbbzcYYIsCX9+tpMLH4OQTCL2iskcZG1Rps/nOpoyqNB0dfVFq3WjRUXj8QQgghL6BEh8aHfzxC9yB+eTV/BfimbUiW5HGA5kUfk/jrEOZha3mp5teBi2b8kjzooh6dJw0RNw3+YQujzl7SwHhCcFPcGDJrMBNdNdG7nEAIASHmCI5LaNj3UUcPzbTB+W6Cc13DoSQ2DUaMGhYIT7tAOE/ym6C/eiKjL8y2s+RnjAebhortYIlJI7MQJx0geI7TiGilziWGnOLBosHJDk5UXD9sC4vtbPFgLM9Vx4MLTnWrC25lkxBCCNkUxR2aZJRunrwkxfd8p2D0e5pL5h+20Lsx7FR07MMHAES4zY6GR8l9hFg16Jw0LDD+ITUwxBCd/cyf3E+RTWXUsOQJ01n+kVqH8RPh8VYaDbdoeBxLDU4B8TXfvHiaZq3nwz/u4dqwo5teg8UXBRrqfmzlxd31agTW4osi22nzA4zxYE5TsR0sGqxpUIe/DwALhDfS96PCGNL41uILFw2AyQ4W2+37qN93cavZgc2owRIPNb+OUefWsnuWviwB0JZNux30+dk1mG2nj4eiOsU1HjR2cPGFUXf1GgBLeSaEEEK2TfGsNM1iUuMiWXVTAGXBqXbhal8E2fUKmQWq8fxtNw35RdZmfcUaNHnqNgW4DJT1CmYN+cXFyhx+ZVF3dr67RrdFg9kXFg2SHVphIM2Rt/jCZrtS+ZnjQU1TtR0sGoxp5N9bIgj7lg0sMusQtL61x8PaGqx2MNgupy2/rstuu7w+Nf7VdRbasqS5Vxlf2PIzaTDazhIPtjrFNR6MdniRL8rWrY4arGWTEEII2S7FHZrcYll1EXB1zHONz+VCVicN+YWqxQvJLRqcMGvILX4vu3i5Qpw0GH1Rte3eKm522IV4cGJr9cMusAt1igu7oIEQQgjZHCV3ObOMNldIbvTT8iWhjIbclqQlXuBmDW4YNTxnt5x+hUagkwazL6q23VvFyQ67EA9ObK9+2AV2oU5xYRc0EEIIIZvCE0IIEEIIIYQQQsgbZGPbNhNCCCGEEELIpmGHhhBCCCGEEPJmYYeGEEIIIYQQ8mZ5Qx2aCANvYDnT4nVZ3LXRNpyLsgtEVx4GuvMkZiHan2xnexCj7SwxaYuHbflit2NyF8rzLmjYcVg/EEIIeQO8oQ4NIYQQQgghhGQotxmaeniecu6CcmCbdEZD5iA3dStXdatX5Zomv9xWqdntUk0aRGa7UtNhgMoWppqDApN7qTqS++S2281vuavXYLGD1XYGX2R02A7Ui7VrnjPjW5NurR0KbGd+JosvLHYwa7DEgyW//IGJfTEx2s4Sk7Z42IAvtPFQEJNW27nEZO65pPh3KM9aX2xVg61+WNMXa8akWne41A+GNKb6wRgPRTGZ367bfh4PIYQQsjlKdWiMh8eVPvxvkjsZXntWhTW//KF2hWmifqnzFubZk8CVs2IseWcaYVobGTVY7KCgPnfxQX5p3mqnanJpsblOX0nbyXYobTuTL4XFjpY0ii9cYlJJk/eL0XZOz1GtL2zxYNOg5J1pyK8Xk+pBmoqeF5dnm54Nasig2NHFF0YNFt1OviibJl8/LMkelGqISUVr2bqCEEII2RAlppxFGF/0cfa5lruy+DkEwi9o6JLNQrQ9D57nwfOa6C1/H2OIAF/e55NY8zNgSxM99NA/7SCvPF7H4CX69jqjcve6ay/TeI1ecQKbBosdjLaz+CJeD5Cm2UP3vpS89XXDzQ7mZ7L4wpLGpMEpJnccsy9s8WDG6D+nmLTcx6E8W9miBlNMuvjCSYOLL2xpLPWDU3kmhBBCdogNraFZIDztAuEcQggIMUF/Mzdy43GA5kUfk/gLFeZha3mp5teBi2b8cj/ooh6dxw2RWYiTDhA8x2lEtKkncrNddNVE73KSpJkjON6QPIsdjLazPZPRF5Y0Tr6w5Lfvo44emmlj790E59pG4R9A1baDD/94hO5B3CBu/grwbc0OloLRF1vUYKkfqsVFd8X1g2O95h+2MOrsJZ2gJwQ3+sEPQgghZBuU6ND48I97uNbsllTz6xh1bo27BNX9+BW3uLtejSLu+6jfd3Gr2eWpKD/gCdNZ+TT+YQu9G8MOPcc+fABAhNvsCGyUvNyFyDRs6/D3AWCB8CY/kjn6PS2vwWIHwGA7iy8AoHUYPxEeb7VfaJ6mhr2K7qfIKrfazmAHu+1MzwSjL6xpDBqcYvJxLDX2BMTX/Fi60XaamEzRxUNhfmv5wh4PZg2GOHaJyeSrwDy13fdVw9alPBf5YisaAGNMuvjCqMGi28kXBWnM9YO9XsvH5ALjH1InSAzR2dffkxBCCNkK5WamqQtAjYuVDYtdW2GgzlXPLFA1L862LPA3LiJW0ygLXrWbAvRFkJ0jn1nsmupb5dUSQZiZa67YKL9+Ja/BYgeb7Uy+kPO6DPJz5JV7mW1kXCys3RQgYweL7czPVM4XWTvYfLF+TOYXOOfWEawZk7Z4qNIXtrJp0mCN47VjUrN4XNK3fnm2+GJrGiwx6egLvQa7bqf6wZTGUj/Y6zV9TOY3bjCsySGEEEK2gCeEENlOzt/LAuGnE+BmNeK4uGtj7/eZdtSeyLxd2y3u2jjBNwzT6T6zEO2DKc7EeXXrP/5UHgfwHo4kH0cYeNfwn91G7Z18UbGGrfFWdSPCwBvjSPJJdOXh+nC+8hshhBCyRf7rtQXsFjUcfQT2Djx005+OA8y/s1lbzNu1Xe1DGzjYg9dJf2kheB6yM1OG90foN5rwLlY/9SPh3CB38kXFGrbGW9WNBo4um2h60vS0ywkEOzOEEEJeCX6hIYQQQgghhLxZNrTLGSGEEEIIIYRsHnZoCCGEEEIIIW8WdmgIIYQQPx2evgAAA8VJREFUQgghb5aNdmiiKw8Dw5kIfxPbssPiro224UwSo4ZZiPYn/XkzZt0RBt7AcraHHsYDIYQQQgipGn6hIYQQQgghhLxdyhxWoxwkpxxMpzkY7nKiPWDReJic5SA542F2mcPx1PtZDs7THqyZPRzPlp+aTnuopfy71Q66w+nMBz2meWrtkLk/5IPujBo0vkvvY9Gt3j9zIKGTHey+0PvPEg+WGMrqWB3oatOwpi8IIYQQQshWKdWhUYhWJ0nPw1amMZs/9XzVaNQzz5zCLV3Jn3av0aC7r/J32c5KkQZLfpPL7Ens2txyurV2UO4TN6jTv1HuY3uGSD3V22xLiy+eA9Ey5G/230Q9nVxLSTtkU8nPUNJ/WTvYNEhqjM8ga3D1BSGEEEII2Q6lppwt7trwPC/+1+gVJygguvKW+e11RvIVDNL7eHvo3hdrWPwcAuEX7cF70UMP/dMOdMe9mTSY84swvujjTHt4nFl31VTti2pxs4PJFzb/me1g0TAL0V5ea0JJZYxJM7vtC0IIIYSQv4PiDs0sxEkHCJ4FhBAQUX95qebXgYtm3KA76KIenRefrv44QPOij0n8dQjzsLW8FF010bucxPcRcwTHxRqcsGhwwajbxr6POnpopg3vdxOcv48v+YctjDp7SUP5CcFN0qiv2g4V42QHF19Y7GDWsEB42gXCeXJtgmUqi4a36gtCCCGEkL+FkpsC1OHvA8AC4c1qJDp66KEfJQ06IZYNcpmnqWb/rGMffpwDbjOj4a3D+AoebzMj/HoNNb+OUedWu+OWf9hC70a/g5dJgzk/H/5xD9eGXcTMumNydngcSw1vAfE17QouMP4hNZTFEJ19OaHeDimj31OtPq2GlPspTKmMafCE6Sz/69p2AIy+sPrPYgebhroff+9Z3F0rX2j0Gl7mC0IIIYQQsgXKzEtbLX5uiSCU1gpoFnsraySUBdq6ReB9EeTWr6QLzQNl/YNRg8gurs+v40FusbdFgzU/dYF4Gd1mO+QXmytrk3QL/AvsoOZZRkPeRsoaHEsaRaNuU4DSdrD7Qu8/ix1sGqR4bYWBtIbGrMHdF4QQQgghZBt4Qgjh1hVaIPx0AtysRq0Xd23s/T6TvjYQE4u7Nk7wDcN0Tc4sRPtgijNxhLE3xpFYTd+LrjxcH85Xf0u2RIQBfUEIIYQQstP8l3vSGo4+AnsHHrrpT8cB5t/ZmSlD7UMbONiD10l/aSF4HsYN58smmp40helyAsEG9CvQwBF9QQghhBCy07zgCw0hhBBCCCGEvC7/Hxbblwr8Lw+9AAAAAElFTkSuQmCC)\n"
      ],
      "metadata": {
        "id": "EHVqfvHs3C55"
      }
    },
    {
      "cell_type": "markdown",
      "source": [
        "##**Instructions**\n"
      ],
      "metadata": {
        "id": "gad5WJ5RK2wR"
      }
    },
    {
      "cell_type": "markdown",
      "source": [
        "Use the commands presented in the previous theory sections to write a Unix script to complete the exercises below. You will be graded based on whether you can produce the correct output files.\n",
        "\n",
        "To start, download the files for the assignment by running the commands below:"
      ],
      "metadata": {
        "id": "jBj7mrAx3BoS"
      }
    },
    {
      "cell_type": "code",
      "source": [
        "%%bash\n",
        "wget -nv -O IGHJ_Mouse.fa 'https://drive.google.com/uc?export=download&id=19OjK8m9M9WwUZpB-5FLSu7RWeQhRbYKO'\n",
        "wget -nv -O IGHJ_Human.fa 'https://drive.google.com/uc?export=download&id=1kUzbiYfBOYQDXUaUzJ4NEGJN9ysPulBz'\n",
        "wget -nv -O IGHJ_Zebrafish.fa 'https://drive.google.com/uc?export=download&id=1m0VB08CBfl6GZ9rfCtmDyh6PI7elHcak'"
      ],
      "metadata": {
        "colab": {
          "base_uri": "https://localhost:8080/"
        },
        "id": "GCDFzcvBhWtl",
        "outputId": "2b8cecee-8d10-4e68-cd0e-66056b873f40"
      },
      "execution_count": null,
      "outputs": [
        {
          "output_type": "stream",
          "name": "stderr",
          "text": [
            "2024-06-26 08:07:27 URL:https://drive.usercontent.google.com/download?id=19OjK8m9M9WwUZpB-5FLSu7RWeQhRbYKO&export=download [1178/1178] -> \"IGHJ_Mouse.fa\" [1]\n",
            "2024-06-26 08:07:28 URL:https://drive.usercontent.google.com/download?id=1kUzbiYfBOYQDXUaUzJ4NEGJN9ysPulBz&export=download [2639/2639] -> \"IGHJ_Human.fa\" [1]\n",
            "2024-06-26 08:07:28 URL:https://drive.usercontent.google.com/download?id=1m0VB08CBfl6GZ9rfCtmDyh6PI7elHcak&export=download [1034/1034] -> \"IGHJ_Zebrafish.fa\" [1]\n"
          ]
        }
      ]
    },
    {
      "cell_type": "markdown",
      "source": [
        "*1*) Create a Unix script named `headerExtractor` to extract the FASTA headers from all files and save them in a file called `headers.txt.`"
      ],
      "metadata": {
        "id": "aCTU0V5sK7yd"
      }
    },
    {
      "cell_type": "markdown",
      "source": [
        "2) Create a Unix script named `seqMeasurer` to extract both FASTA headers and sequences lengths from all files and save them in a file called `lengths.txt.`\n",
        "\n",
        "Each FASTA file should have an entry in `lengths.txt`.\n",
        "The format of each entry in `lengths.txt` is as follows:\n",
        "*   Multiple lines with the FASTA headers for a file\n",
        "*   On its own line, the sum of the nucleotides for all FASTA sequences in that file\n",
        "\n",
        "_Hint_: Try experimenting with the `grep` commands's `-v`/ `--invert-match` option to search for string that do not match the target string or regular expression."
      ],
      "metadata": {
        "id": "tNGTiM9aLFnk"
      }
    },
    {
      "cell_type": "markdown",
      "source": [
        "#**Daniela Cebotari LAB 2, Unix Scripting.**#"
      ],
      "metadata": {
        "id": "Wq3i4HLwHfb-"
      }
    },
    {
      "cell_type": "markdown",
      "source": [
        "##**TASK 1, `headerExtractor` Unix script to extract FASTA headers from all files and save them in a file called `headers.txt`.**##"
      ],
      "metadata": {
        "id": "apTHc_RVUTGc"
      }
    },
    {
      "cell_type": "markdown",
      "source": [
        "I wrote a for loop where it uses the `grep` command using the `^` anchor to search through the files and find where the header is at, since it has been said that FASTA headers start with \">\". Then using `echo` i printed/echoed a string that indicates that a header has been found and extracted."
      ],
      "metadata": {
        "id": "2VOqMBQBaemm"
      }
    },
    {
      "cell_type": "code",
      "source": [
        "%%bash\n",
        "cat > headerExtractor\n",
        "#!/bin/bash\n",
        "for file in *.fa; do\n",
        "    grep \"^>\" $file >> headers.txt\n",
        "    echo \"FASTA Header has been extracted!\"\n",
        "    echo $file\n",
        "done"
      ],
      "metadata": {
        "id": "eLIWqjAFUoD3"
      },
      "execution_count": null,
      "outputs": []
    },
    {
      "cell_type": "code",
      "source": [
        "%%bash\n",
        "ls -l"
      ],
      "metadata": {
        "colab": {
          "base_uri": "https://localhost:8080/"
        },
        "id": "TZLvPrNdZHaL",
        "outputId": "0525624c-9298-41f1-d803-3d5384da5e0c"
      },
      "execution_count": null,
      "outputs": [
        {
          "output_type": "stream",
          "name": "stdout",
          "text": [
            "total 40\n",
            "-rw-r--r-- 1 root root   45 Jun 26 08:07 apprendPractice.txt\n",
            "-rw-r--r-- 1 root root  303 Jun 26 08:07 combinedExample.txt\n",
            "-rw-r--r-- 1 root root    0 Jun 26 08:07 exampleThree.txt\n",
            "-rw-r--r-- 1 root root  157 Jun 26 08:07 exampleTwo.txt\n",
            "-rw-r--r-- 1 root root  146 Jun 26 08:07 example.txt\n",
            "-rw-r--r-- 1 root root  132 Jun 26 08:07 headerExtractor\n",
            "-rw-r--r-- 1 root root 2639 Jan 13  2022 IGHJ_Human.fa\n",
            "-rw-r--r-- 1 root root 1178 Jan 13  2022 IGHJ_Mouse.fa\n",
            "-rw-r--r-- 1 root root 1034 Jan 13  2022 IGHJ_Zebrafish.fa\n",
            "-rwxr--r-- 1 root root   32 Jun 26 08:07 myScript\n",
            "drwxr-xr-x 1 root root 4096 Jun 24 13:28 sample_data\n"
          ]
        }
      ]
    },
    {
      "cell_type": "markdown",
      "source": [
        "Giving myself the permission to change the file in order to make it executable."
      ],
      "metadata": {
        "id": "ag2M8PMIbjQR"
      }
    },
    {
      "cell_type": "code",
      "source": [
        "%%bash\n",
        "chmod u+x headerExtractor"
      ],
      "metadata": {
        "id": "fkzFC_5qZOpU"
      },
      "execution_count": null,
      "outputs": []
    },
    {
      "cell_type": "code",
      "source": [
        "%%bash\n",
        "ls -l"
      ],
      "metadata": {
        "colab": {
          "base_uri": "https://localhost:8080/"
        },
        "id": "A5Dwkxk7ZXRJ",
        "outputId": "9fad7763-5c39-4a6a-a0b2-740eb55b4126"
      },
      "execution_count": null,
      "outputs": [
        {
          "output_type": "stream",
          "name": "stdout",
          "text": [
            "total 40\n",
            "-rw-r--r-- 1 root root   45 Jun 26 08:07 apprendPractice.txt\n",
            "-rw-r--r-- 1 root root  303 Jun 26 08:07 combinedExample.txt\n",
            "-rw-r--r-- 1 root root    0 Jun 26 08:07 exampleThree.txt\n",
            "-rw-r--r-- 1 root root  157 Jun 26 08:07 exampleTwo.txt\n",
            "-rw-r--r-- 1 root root  146 Jun 26 08:07 example.txt\n",
            "-rwxr--r-- 1 root root  132 Jun 26 08:07 headerExtractor\n",
            "-rw-r--r-- 1 root root 2639 Jan 13  2022 IGHJ_Human.fa\n",
            "-rw-r--r-- 1 root root 1178 Jan 13  2022 IGHJ_Mouse.fa\n",
            "-rw-r--r-- 1 root root 1034 Jan 13  2022 IGHJ_Zebrafish.fa\n",
            "-rwxr--r-- 1 root root   32 Jun 26 08:07 myScript\n",
            "drwxr-xr-x 1 root root 4096 Jun 24 13:28 sample_data\n"
          ]
        }
      ]
    },
    {
      "cell_type": "markdown",
      "source": [
        "The strings are echoing ..."
      ],
      "metadata": {
        "id": "mEYr5bwVbrXF"
      }
    },
    {
      "cell_type": "code",
      "source": [
        "%%bash\n",
        "./headerExtractor"
      ],
      "metadata": {
        "colab": {
          "base_uri": "https://localhost:8080/"
        },
        "id": "U7vuRUiaZaNr",
        "outputId": "591e3c47-b9e2-491a-a36f-30b79729283d"
      },
      "execution_count": null,
      "outputs": [
        {
          "output_type": "stream",
          "name": "stdout",
          "text": [
            "FASTA Header has been extracted!\n",
            "IGHJ_Human.fa\n",
            "FASTA Header has been extracted!\n",
            "IGHJ_Mouse.fa\n",
            "FASTA Header has been extracted!\n",
            "IGHJ_Zebrafish.fa\n"
          ]
        }
      ]
    },
    {
      "cell_type": "markdown",
      "source": [
        "Succesfully found every header from the given files and saved them here in `headers.txt`."
      ],
      "metadata": {
        "id": "s5Y97w_Tbs_6"
      }
    },
    {
      "cell_type": "code",
      "source": [
        "%%bash\n",
        "cat headers.txt"
      ],
      "metadata": {
        "colab": {
          "base_uri": "https://localhost:8080/"
        },
        "id": "kbaY6PkCZfG0",
        "outputId": "c05b559f-16b0-44f4-d407-09730bd72ea6"
      },
      "execution_count": null,
      "outputs": [
        {
          "output_type": "stream",
          "name": "stdout",
          "text": [
            ">J00256|IGHJ1*01|Homo sapiens|F|J-REGION|723..774|52 nt|1| | | | |52+0=52| | |\n",
            ">J00256|IGHJ1P*01|Homo sapiens|P|J-REGION|504..557|54 nt|1| | | | |54+0=54| | |\n",
            ">IMGT000035|IGHJ1P*02|Homo sapiens|P|J-REGION|1014168..1014221|54 nt|1| | | | |54+0=54| | |\n",
            ">J00256|IGHJ2*01|Homo sapiens|F|J-REGION|932..984|53 nt|2| | | | |53+0=53| | |\n",
            ">J00256|IGHJ2P*01|Homo sapiens|P|J-REGION|1320..1380|61 nt|1| | | | |61+0=61| | |\n",
            ">IMGT000035|IGHJ2P*02|Homo sapiens|P|J-REGION|1014993..1015054|62 nt|3| | | | |62+0=62| | |\n",
            ">J00256|IGHJ3*01|Homo sapiens|F|J-REGION|1537..1586|50 nt|2| | | | |50+0=50| | |\n",
            ">X86355|IGHJ3*02|Homo sapiens|F|J-REGION|1107..1156|50 nt|2| | | | |50+0=50| | |\n",
            ">J00256|IGHJ3P*01|Homo sapiens|P|J-REGION|2746..2797|52 nt|1| | | | |52+0=52| | |\n",
            ">X86355|IGHJ3P*02|Homo sapiens|P|J-REGION|2277..2326|50 nt|1| | | | |50+0=50| | |\n",
            ">J00256|IGHJ4*01|Homo sapiens|F|J-REGION|1912..1959|48 nt|3| | | | |48+0=48| | |\n",
            ">X86355|IGHJ4*02|Homo sapiens|F|J-REGION|1480..1527|48 nt|3| | | | |48+0=48| | |\n",
            ">M25625|IGHJ4*03|Homo sapiens|F|J-REGION|446..493|48 nt|3| | | | |48+0=48| | |\n",
            ">J00256|IGHJ5*01|Homo sapiens|F|J-REGION|2354..2404|51 nt|3| | | | |51+0=51| | |\n",
            ">X86355|IGHJ5*02|Homo sapiens|F|J-REGION|1878..1928|51 nt|3| | | | |51+0=51| | |\n",
            ">J00256|IGHJ6*01|Homo sapiens|F|J-REGION|2947..3009|63 nt|3| | | | |63+0=63| | |\n",
            ">X86355|IGHJ6*02|Homo sapiens|F|J-REGION|2482..2543|62 nt|3| | | | |62+0=62|partial in 3'| |\n",
            ">X86356|IGHJ6*03|Homo sapiens|F|J-REGION|2482..2543|62 nt|3| | | | |62+0=62|partial in 3'| |\n",
            ">AJ879487|IGHJ6*04|Homo sapiens|F|J-REGION|39..101|63 nt|3| | | | |63+0=63| | |\n",
            ">V00762|IGHJ1*01|Mus musculus_BALB/c|F|J-REGION|444..496|53 nt|2| | | | |53+0=53| | |\n",
            ">V00770|IGHJ1*02|Mus musculus|F|J-REGION|65..117|53 nt|2| | | | |53+0=53| | |\n",
            ">X63164|IGHJ1*03|Mus musculus_A/J|F|J-REGION|12..64|53 nt|2| | | | |53+0=53| | |\n",
            ">V00770|IGHJ2*01|Mus musculus|F|J-REGION|383..430|48 nt|3| | | | |48+0=48| | |\n",
            ">S73821|IGHJ2*02|Mus musculus|F|J-REGION|267..314|48 nt|3| | | | |48+0=48| | |\n",
            ">S77041|IGHJ2*03|Mus musculus|F|J-REGION|1..46|46 nt|1| | | | |46+0=46| | |\n",
            ">V00770|IGHJ3*01|Mus musculus|F|J-REGION|766..813|48 nt|3| | | | |48+0=48| | |\n",
            ">S73821|IGHJ3*02|Mus musculus|P|J-REGION|650..697|48 nt|3| | | | |48+0=48| | |\n",
            ">V00770|IGHJ4*01|Mus musculus|F|J-REGION|1333..1386|54 nt|3| | | | |54+0=54| | |\n",
            ">BX649502|IGHJ1-1*01|Danio rerio_Tuebingen|F|J-REGION|237816..237860|45 nt|3| | | | |45+0=45| | |\n",
            ">BX649502|IGHJ1-2*01|Danio rerio_Tuebingen|F|J-REGION|238370..238415|46 nt|1| | | | |46+0=46| | |\n",
            ">BX510335|IGHJ2-1*01|Danio rerio_Tuebingen|F|J-REGION|22095..22145|51 nt|3| | | | |51+0=51| | |\n",
            ">BX510335|IGHJ2-2*01|Danio rerio_Tuebingen|F|J-REGION|22394..22444|51 nt|3| | | | |51+0=51| | |\n",
            ">BX510335|IGHJ2-3*01|Danio rerio_Tuebingen|F|J-REGION|22658..22711|54 nt|3| | | | |54+0=54| | |\n",
            ">BX510335|IGHJ2-4*01|Danio rerio_Tuebingen|F|J-REGION|22961..23011|51 nt|3| | | | |51+0=51| | |\n",
            ">BX510335|IGHJ2-5*01|Danio rerio_Tuebingen|F|J-REGION|23202..23254|53 nt|2| | | | |53+0=53| | |\n"
          ]
        }
      ]
    },
    {
      "cell_type": "markdown",
      "source": [
        "##**TASK 2, `seqMeasurer`Unix script to extract both FASTA headers and seuqences lenghts and save them in a file called `lengths.txt`.**##"
      ],
      "metadata": {
        "id": "xhhSmw1Gb4Gp"
      }
    },
    {
      "cell_type": "markdown",
      "source": [
        "Doing the same thing as in task 1, this time using `|` command aka the pipe command, and the `grep -v` command which searches for the string that isn't the header, and counts the lengths using the `wc` command."
      ],
      "metadata": {
        "id": "21wSd1kFfv8y"
      }
    },
    {
      "cell_type": "code",
      "source": [
        "%%bash\n",
        "cat > seqMeasurer\n",
        "#!/bin/bash\n",
        "for file in *.fa; do\n",
        "    grep \"^>\" $file >> lengths.txt\n",
        "    grep -v \"^>\" | wc -m $file >> lengths.txt\n",
        "    echo \"FASTA headers & sequences lengths have been extracted!\"\n",
        "    echo $file\n",
        "done"
      ],
      "metadata": {
        "id": "nyDQyi7EcbH0"
      },
      "execution_count": null,
      "outputs": []
    },
    {
      "cell_type": "code",
      "source": [
        "%%bash\n",
        "ls -l"
      ],
      "metadata": {
        "colab": {
          "base_uri": "https://localhost:8080/"
        },
        "id": "Wxc_ID13efz4",
        "outputId": "b89cdf3c-4c59-4ecb-8436-f1b0c5483ce3"
      },
      "execution_count": null,
      "outputs": [
        {
          "output_type": "stream",
          "name": "stdout",
          "text": [
            "total 48\n",
            "-rw-r--r-- 1 root root   45 Jun 26 08:07 apprendPractice.txt\n",
            "-rw-r--r-- 1 root root  303 Jun 26 08:07 combinedExample.txt\n",
            "-rw-r--r-- 1 root root    0 Jun 26 08:07 exampleThree.txt\n",
            "-rw-r--r-- 1 root root  157 Jun 26 08:07 exampleTwo.txt\n",
            "-rw-r--r-- 1 root root  146 Jun 26 08:07 example.txt\n",
            "-rwxr--r-- 1 root root  132 Jun 26 08:07 headerExtractor\n",
            "-rw-r--r-- 1 root root 2974 Jun 26 08:07 headers.txt\n",
            "-rw-r--r-- 1 root root 2639 Jan 13  2022 IGHJ_Human.fa\n",
            "-rw-r--r-- 1 root root 1178 Jan 13  2022 IGHJ_Mouse.fa\n",
            "-rw-r--r-- 1 root root 1034 Jan 13  2022 IGHJ_Zebrafish.fa\n",
            "-rwxr--r-- 1 root root   32 Jun 26 08:07 myScript\n",
            "drwxr-xr-x 1 root root 4096 Jun 24 13:28 sample_data\n",
            "-rw-r--r-- 1 root root  200 Jun 26 08:07 seqMeasurer\n"
          ]
        }
      ]
    },
    {
      "cell_type": "code",
      "source": [
        "%%bash\n",
        "chmod u+x seqMeasurer"
      ],
      "metadata": {
        "id": "gN-T2J2WemcX"
      },
      "execution_count": null,
      "outputs": []
    },
    {
      "cell_type": "code",
      "source": [
        "%%bash\n",
        "ls -l"
      ],
      "metadata": {
        "colab": {
          "base_uri": "https://localhost:8080/"
        },
        "id": "12FDWagjeudz",
        "outputId": "8a84fecb-39e5-44fd-a3d8-d156e21417a7"
      },
      "execution_count": null,
      "outputs": [
        {
          "output_type": "stream",
          "name": "stdout",
          "text": [
            "total 48\n",
            "-rw-r--r-- 1 root root   45 Jun 26 08:07 apprendPractice.txt\n",
            "-rw-r--r-- 1 root root  303 Jun 26 08:07 combinedExample.txt\n",
            "-rw-r--r-- 1 root root    0 Jun 26 08:07 exampleThree.txt\n",
            "-rw-r--r-- 1 root root  157 Jun 26 08:07 exampleTwo.txt\n",
            "-rw-r--r-- 1 root root  146 Jun 26 08:07 example.txt\n",
            "-rwxr--r-- 1 root root  132 Jun 26 08:07 headerExtractor\n",
            "-rw-r--r-- 1 root root 2974 Jun 26 08:07 headers.txt\n",
            "-rw-r--r-- 1 root root 2639 Jan 13  2022 IGHJ_Human.fa\n",
            "-rw-r--r-- 1 root root 1178 Jan 13  2022 IGHJ_Mouse.fa\n",
            "-rw-r--r-- 1 root root 1034 Jan 13  2022 IGHJ_Zebrafish.fa\n",
            "-rwxr--r-- 1 root root   32 Jun 26 08:07 myScript\n",
            "drwxr-xr-x 1 root root 4096 Jun 24 13:28 sample_data\n",
            "-rwxr--r-- 1 root root  200 Jun 26 08:07 seqMeasurer\n"
          ]
        }
      ]
    },
    {
      "cell_type": "code",
      "source": [
        "%%bash\n",
        "./seqMeasurer"
      ],
      "metadata": {
        "colab": {
          "base_uri": "https://localhost:8080/"
        },
        "id": "k1_TAGAKewsz",
        "outputId": "f0a8a2fa-20e0-4063-a417-f1d232b78f94"
      },
      "execution_count": null,
      "outputs": [
        {
          "output_type": "stream",
          "name": "stdout",
          "text": [
            "FASTA headers & sequences lengths have been extracted!\n",
            "IGHJ_Human.fa\n",
            "FASTA headers & sequences lengths have been extracted!\n",
            "IGHJ_Mouse.fa\n",
            "FASTA headers & sequences lengths have been extracted!\n",
            "IGHJ_Zebrafish.fa\n"
          ]
        }
      ]
    },
    {
      "cell_type": "code",
      "source": [
        "%%bash\n",
        "cat lengths.txt"
      ],
      "metadata": {
        "colab": {
          "base_uri": "https://localhost:8080/"
        },
        "id": "YD03zz5yfAZs",
        "outputId": "6e02409a-fb1e-4235-f86e-3e91a65f5b71"
      },
      "execution_count": null,
      "outputs": [
        {
          "output_type": "stream",
          "name": "stdout",
          "text": [
            ">J00256|IGHJ1*01|Homo sapiens|F|J-REGION|723..774|52 nt|1| | | | |52+0=52| | |\n",
            ">J00256|IGHJ1P*01|Homo sapiens|P|J-REGION|504..557|54 nt|1| | | | |54+0=54| | |\n",
            ">IMGT000035|IGHJ1P*02|Homo sapiens|P|J-REGION|1014168..1014221|54 nt|1| | | | |54+0=54| | |\n",
            ">J00256|IGHJ2*01|Homo sapiens|F|J-REGION|932..984|53 nt|2| | | | |53+0=53| | |\n",
            ">J00256|IGHJ2P*01|Homo sapiens|P|J-REGION|1320..1380|61 nt|1| | | | |61+0=61| | |\n",
            ">IMGT000035|IGHJ2P*02|Homo sapiens|P|J-REGION|1014993..1015054|62 nt|3| | | | |62+0=62| | |\n",
            ">J00256|IGHJ3*01|Homo sapiens|F|J-REGION|1537..1586|50 nt|2| | | | |50+0=50| | |\n",
            ">X86355|IGHJ3*02|Homo sapiens|F|J-REGION|1107..1156|50 nt|2| | | | |50+0=50| | |\n",
            ">J00256|IGHJ3P*01|Homo sapiens|P|J-REGION|2746..2797|52 nt|1| | | | |52+0=52| | |\n",
            ">X86355|IGHJ3P*02|Homo sapiens|P|J-REGION|2277..2326|50 nt|1| | | | |50+0=50| | |\n",
            ">J00256|IGHJ4*01|Homo sapiens|F|J-REGION|1912..1959|48 nt|3| | | | |48+0=48| | |\n",
            ">X86355|IGHJ4*02|Homo sapiens|F|J-REGION|1480..1527|48 nt|3| | | | |48+0=48| | |\n",
            ">M25625|IGHJ4*03|Homo sapiens|F|J-REGION|446..493|48 nt|3| | | | |48+0=48| | |\n",
            ">J00256|IGHJ5*01|Homo sapiens|F|J-REGION|2354..2404|51 nt|3| | | | |51+0=51| | |\n",
            ">X86355|IGHJ5*02|Homo sapiens|F|J-REGION|1878..1928|51 nt|3| | | | |51+0=51| | |\n",
            ">J00256|IGHJ6*01|Homo sapiens|F|J-REGION|2947..3009|63 nt|3| | | | |63+0=63| | |\n",
            ">X86355|IGHJ6*02|Homo sapiens|F|J-REGION|2482..2543|62 nt|3| | | | |62+0=62|partial in 3'| |\n",
            ">X86356|IGHJ6*03|Homo sapiens|F|J-REGION|2482..2543|62 nt|3| | | | |62+0=62|partial in 3'| |\n",
            ">AJ879487|IGHJ6*04|Homo sapiens|F|J-REGION|39..101|63 nt|3| | | | |63+0=63| | |\n",
            "2639 IGHJ_Human.fa\n",
            ">V00762|IGHJ1*01|Mus musculus_BALB/c|F|J-REGION|444..496|53 nt|2| | | | |53+0=53| | |\n",
            ">V00770|IGHJ1*02|Mus musculus|F|J-REGION|65..117|53 nt|2| | | | |53+0=53| | |\n",
            ">X63164|IGHJ1*03|Mus musculus_A/J|F|J-REGION|12..64|53 nt|2| | | | |53+0=53| | |\n",
            ">V00770|IGHJ2*01|Mus musculus|F|J-REGION|383..430|48 nt|3| | | | |48+0=48| | |\n",
            ">S73821|IGHJ2*02|Mus musculus|F|J-REGION|267..314|48 nt|3| | | | |48+0=48| | |\n",
            ">S77041|IGHJ2*03|Mus musculus|F|J-REGION|1..46|46 nt|1| | | | |46+0=46| | |\n",
            ">V00770|IGHJ3*01|Mus musculus|F|J-REGION|766..813|48 nt|3| | | | |48+0=48| | |\n",
            ">S73821|IGHJ3*02|Mus musculus|P|J-REGION|650..697|48 nt|3| | | | |48+0=48| | |\n",
            ">V00770|IGHJ4*01|Mus musculus|F|J-REGION|1333..1386|54 nt|3| | | | |54+0=54| | |\n",
            "1178 IGHJ_Mouse.fa\n",
            ">BX649502|IGHJ1-1*01|Danio rerio_Tuebingen|F|J-REGION|237816..237860|45 nt|3| | | | |45+0=45| | |\n",
            ">BX649502|IGHJ1-2*01|Danio rerio_Tuebingen|F|J-REGION|238370..238415|46 nt|1| | | | |46+0=46| | |\n",
            ">BX510335|IGHJ2-1*01|Danio rerio_Tuebingen|F|J-REGION|22095..22145|51 nt|3| | | | |51+0=51| | |\n",
            ">BX510335|IGHJ2-2*01|Danio rerio_Tuebingen|F|J-REGION|22394..22444|51 nt|3| | | | |51+0=51| | |\n",
            ">BX510335|IGHJ2-3*01|Danio rerio_Tuebingen|F|J-REGION|22658..22711|54 nt|3| | | | |54+0=54| | |\n",
            ">BX510335|IGHJ2-4*01|Danio rerio_Tuebingen|F|J-REGION|22961..23011|51 nt|3| | | | |51+0=51| | |\n",
            ">BX510335|IGHJ2-5*01|Danio rerio_Tuebingen|F|J-REGION|23202..23254|53 nt|2| | | | |53+0=53| | |\n",
            "1034 IGHJ_Zebrafish.fa\n"
          ]
        }
      ]
    }
  ]
}